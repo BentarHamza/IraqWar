{
 "cells": [
  {
   "cell_type": "markdown",
   "id": "823a67be",
   "metadata": {},
   "source": [
    "# Analysing President Bush Speech declaring Iraq invasion with speech recognition IA"
   ]
  },
  {
   "cell_type": "code",
   "execution_count": 13,
   "id": "1b557a7d",
   "metadata": {},
   "outputs": [],
   "source": [
    "import requests\n",
    "from IPython.display import JSON\n",
    "import pandas as pd\n",
    "import numpy as np\n",
    "import pandas as pd\n",
    "import time"
   ]
  },
  {
   "cell_type": "code",
   "execution_count": 5,
   "id": "87adfc00",
   "metadata": {},
   "outputs": [],
   "source": [
    "API_KEY = \"9c494c0a0748491eaeb8fac0fa1f28bf\""
   ]
  },
  {
   "cell_type": "code",
   "execution_count": 24,
   "id": "6ec11515",
   "metadata": {},
   "outputs": [
    {
     "name": "stdout",
     "output_type": "stream",
     "text": [
      "{'error': 'Transcript creation error, audio_url should start with http'}\n"
     ]
    }
   ],
   "source": [
    "endpoint = \"https://api.assemblyai.com/v2/transcript\"\n",
    "\n",
    "json = {\n",
    "  \"audio_url\": \"C:/Users/HAMZA/Desktop/Studies/Data science/Business intelligence/analysing iraq war/President George W. Bush Announces Start to Iraq War.mp3\"\n",
    "}\n",
    "\n",
    "headers = {\n",
    "  \"Authorization\": API_KEY,\n",
    "  \"Content-Type\": \"application/json\"\n",
    "}\n",
    "\n",
    "response = requests.post(endpoint, json=json, headers=headers)\n",
    "print(response.json())"
   ]
  },
  {
   "cell_type": "code",
   "execution_count": 22,
   "id": "a6ce992f",
   "metadata": {},
   "outputs": [
    {
     "name": "stdout",
     "output_type": "stream",
     "text": [
      "{'id': 'ri5b6oqp7z-d77b-4c76-949d-84df3a5d61b3', 'language_model': 'assemblyai_default', 'acoustic_model': 'assemblyai_default', 'language_code': 'en_us', 'status': 'error', 'audio_url': 'https://youtu.be/FuwZSAmZ5G0?row=True', 'text': None, 'words': None, 'utterances': None, 'confidence': None, 'audio_duration': None, 'punctuate': True, 'format_text': True, 'dual_channel': None, 'webhook_url': None, 'webhook_status_code': None, 'webhook_auth': False, 'webhook_auth_header_name': None, 'speed_boost': False, 'auto_highlights_result': None, 'auto_highlights': False, 'audio_start_from': None, 'audio_end_at': None, 'word_boost': [], 'boost_param': None, 'filter_profanity': False, 'redact_pii': False, 'redact_pii_audio': False, 'redact_pii_audio_quality': None, 'redact_pii_policies': None, 'redact_pii_sub': None, 'speaker_labels': False, 'error': 'File does not contain audio, appears to be text/html', 'content_safety': None, 'iab_categories': None, 'content_safety_labels': None, 'iab_categories_result': None, 'language_detection': False, 'custom_spelling': None, 'cluster_id': None, 'throttled': None, 'auto_chapters': False, 'summarization': False, 'summary_type': None, 'summary_model': None, 'disfluencies': False, 'sentiment_analysis': False, 'chapters': None, 'sentiment_analysis_results': None, 'entity_detection': False, 'entities': None, 'summary': None}\n"
     ]
    }
   ],
   "source": [
    "result_endpoint = endpoint + \"/\" + response.json()['id']\n",
    "headers_auth = {\n",
    "  \"Authorization\": API_KEY,\n",
    "  \n",
    "}\n",
    "transcript_response = requests.get(result_endpoint, json=json, headers=headers_auth)\n",
    "print(transcript_response.json())"
   ]
  },
  {
   "cell_type": "code",
   "execution_count": 23,
   "id": "530e73f1",
   "metadata": {},
   "outputs": [
    {
     "data": {
      "application/json": {
       "acoustic_model": "assemblyai_default",
       "audio_duration": null,
       "audio_end_at": null,
       "audio_start_from": null,
       "audio_url": "https://youtu.be/FuwZSAmZ5G0?row=True",
       "auto_chapters": false,
       "auto_highlights": false,
       "auto_highlights_result": null,
       "boost_param": null,
       "chapters": null,
       "cluster_id": null,
       "confidence": null,
       "content_safety": null,
       "content_safety_labels": null,
       "custom_spelling": null,
       "disfluencies": false,
       "dual_channel": null,
       "entities": null,
       "entity_detection": false,
       "error": "File does not contain audio, appears to be text/html",
       "filter_profanity": false,
       "format_text": true,
       "iab_categories": null,
       "iab_categories_result": null,
       "id": "ri5b6oqp7z-d77b-4c76-949d-84df3a5d61b3",
       "language_code": "en_us",
       "language_detection": false,
       "language_model": "assemblyai_default",
       "punctuate": true,
       "redact_pii": false,
       "redact_pii_audio": false,
       "redact_pii_audio_quality": null,
       "redact_pii_policies": null,
       "redact_pii_sub": null,
       "sentiment_analysis": false,
       "sentiment_analysis_results": null,
       "speaker_labels": false,
       "speed_boost": false,
       "status": "error",
       "summarization": false,
       "summary": null,
       "summary_model": null,
       "summary_type": null,
       "text": null,
       "throttled": null,
       "utterances": null,
       "webhook_auth": false,
       "webhook_auth_header_name": null,
       "webhook_status_code": null,
       "webhook_url": null,
       "word_boost": [],
       "words": null
      },
      "text/plain": [
       "<IPython.core.display.JSON object>"
      ]
     },
     "execution_count": 23,
     "metadata": {
      "application/json": {
       "expanded": false,
       "root": "root"
      }
     },
     "output_type": "execute_result"
    }
   ],
   "source": [
    "JSON(transcript_response.json())"
   ]
  },
  {
   "cell_type": "code",
   "execution_count": null,
   "id": "62b2342f",
   "metadata": {},
   "outputs": [],
   "source": []
  },
  {
   "cell_type": "code",
   "execution_count": null,
   "id": "3cdd2166",
   "metadata": {},
   "outputs": [],
   "source": []
  },
  {
   "cell_type": "code",
   "execution_count": null,
   "id": "309b8837",
   "metadata": {},
   "outputs": [],
   "source": []
  },
  {
   "cell_type": "code",
   "execution_count": null,
   "id": "adf46043",
   "metadata": {},
   "outputs": [],
   "source": []
  },
  {
   "cell_type": "code",
   "execution_count": null,
   "id": "679963b8",
   "metadata": {},
   "outputs": [],
   "source": []
  },
  {
   "cell_type": "code",
   "execution_count": null,
   "id": "aa233691",
   "metadata": {},
   "outputs": [],
   "source": []
  },
  {
   "cell_type": "code",
   "execution_count": null,
   "id": "aba47f09",
   "metadata": {},
   "outputs": [],
   "source": []
  }
 ],
 "metadata": {
  "kernelspec": {
   "display_name": "Python 3 (ipykernel)",
   "language": "python",
   "name": "python3"
  },
  "language_info": {
   "codemirror_mode": {
    "name": "ipython",
    "version": 3
   },
   "file_extension": ".py",
   "mimetype": "text/x-python",
   "name": "python",
   "nbconvert_exporter": "python",
   "pygments_lexer": "ipython3",
   "version": "3.9.12"
  }
 },
 "nbformat": 4,
 "nbformat_minor": 5
}
